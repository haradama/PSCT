{
 "cells": [
  {
   "cell_type": "code",
   "execution_count": 1,
   "metadata": {
    "collapsed": true
   },
   "outputs": [],
   "source": [
    "import pandas as pd"
   ]
  },
  {
   "cell_type": "code",
   "execution_count": 2,
   "metadata": {
    "collapsed": true
   },
   "outputs": [],
   "source": [
    "lsbsr = pd.read_table(\"./lsbsr_g_dup_13strains_matrix.txt\", index_col=0)"
   ]
  },
  {
   "cell_type": "code",
   "execution_count": 3,
   "metadata": {
    "collapsed": true
   },
   "outputs": [],
   "source": [
    "columns  = list(lsbsr.columns)\n",
    "columns.remove(\"SAMD00059319_PSCT_BDJA01_FF.fna\")"
   ]
  },
  {
   "cell_type": "code",
   "execution_count": 4,
   "metadata": {
    "collapsed": true
   },
   "outputs": [],
   "source": [
    "strainspecific = [1 if sum(row)== 0 else 0 for index, row in lsbsr[columns].iterrows()]\n",
    "df_specific = pd.DataFrame(strainspecific, index=lsbsr.index, columns=[\"StrainSpecific\"])"
   ]
  },
  {
   "cell_type": "code",
   "execution_count": 5,
   "metadata": {
    "collapsed": true
   },
   "outputs": [],
   "source": [
    "laa_gc3 = pd.read_csv(\"./Rtable._SAMD00059319_PSCT_BDJA01_FF_0A0.txt.coa.csv\", index_col=0)"
   ]
  },
  {
   "cell_type": "code",
   "execution_count": 6,
   "metadata": {
    "collapsed": false
   },
   "outputs": [
    {
     "data": {
      "text/html": [
       "<div>\n",
       "<style>\n",
       "    .dataframe thead tr:only-child th {\n",
       "        text-align: right;\n",
       "    }\n",
       "\n",
       "    .dataframe thead th {\n",
       "        text-align: left;\n",
       "    }\n",
       "\n",
       "    .dataframe tbody tr th {\n",
       "        vertical-align: top;\n",
       "    }\n",
       "</style>\n",
       "<table border=\"1\" class=\"dataframe\">\n",
       "  <thead>\n",
       "    <tr style=\"text-align: right;\">\n",
       "      <th></th>\n",
       "      <th>Laa</th>\n",
       "      <th>GC3</th>\n",
       "      <th>gene</th>\n",
       "      <th>product</th>\n",
       "      <th>highlyExpressed</th>\n",
       "    </tr>\n",
       "    <tr>\n",
       "      <th>locus_tag</th>\n",
       "      <th></th>\n",
       "      <th></th>\n",
       "      <th></th>\n",
       "      <th></th>\n",
       "      <th></th>\n",
       "    </tr>\n",
       "  </thead>\n",
       "  <tbody>\n",
       "    <tr>\n",
       "      <th>PSCT_00001</th>\n",
       "      <td>62</td>\n",
       "      <td>0.5484</td>\n",
       "      <td>NaN</td>\n",
       "      <td>hypothetical protein</td>\n",
       "      <td>0</td>\n",
       "    </tr>\n",
       "    <tr>\n",
       "      <th>PSCT_00002</th>\n",
       "      <td>80</td>\n",
       "      <td>0.6000</td>\n",
       "      <td>NaN</td>\n",
       "      <td>hypothetical protein</td>\n",
       "      <td>0</td>\n",
       "    </tr>\n",
       "    <tr>\n",
       "      <th>PSCT_00003</th>\n",
       "      <td>1039</td>\n",
       "      <td>0.7324</td>\n",
       "      <td>cusA_1</td>\n",
       "      <td>cation efflux system protein CusA</td>\n",
       "      <td>0</td>\n",
       "    </tr>\n",
       "    <tr>\n",
       "      <th>PSCT_00004</th>\n",
       "      <td>544</td>\n",
       "      <td>0.6857</td>\n",
       "      <td>cusB_1</td>\n",
       "      <td>cation efflux system protein CusB precursor</td>\n",
       "      <td>0</td>\n",
       "    </tr>\n",
       "    <tr>\n",
       "      <th>PSCT_00005</th>\n",
       "      <td>427</td>\n",
       "      <td>0.7166</td>\n",
       "      <td>NaN</td>\n",
       "      <td>outer membrane efflux protein</td>\n",
       "      <td>0</td>\n",
       "    </tr>\n",
       "    <tr>\n",
       "      <th>PSCT_00006</th>\n",
       "      <td>89</td>\n",
       "      <td>0.8876</td>\n",
       "      <td>NaN</td>\n",
       "      <td>hypothetical protein</td>\n",
       "      <td>0</td>\n",
       "    </tr>\n",
       "    <tr>\n",
       "      <th>PSCT_00007</th>\n",
       "      <td>729</td>\n",
       "      <td>0.8368</td>\n",
       "      <td>hcr</td>\n",
       "      <td>NADH oxidoreductase hcr</td>\n",
       "      <td>0</td>\n",
       "    </tr>\n",
       "    <tr>\n",
       "      <th>PSCT_00008</th>\n",
       "      <td>228</td>\n",
       "      <td>0.8421</td>\n",
       "      <td>NaN</td>\n",
       "      <td>ferric reductase like transmembrane component</td>\n",
       "      <td>0</td>\n",
       "    </tr>\n",
       "    <tr>\n",
       "      <th>PSCT_00009</th>\n",
       "      <td>266</td>\n",
       "      <td>0.7932</td>\n",
       "      <td>NaN</td>\n",
       "      <td>hypothetical protein</td>\n",
       "      <td>0</td>\n",
       "    </tr>\n",
       "    <tr>\n",
       "      <th>PSCT_00010</th>\n",
       "      <td>108</td>\n",
       "      <td>0.5556</td>\n",
       "      <td>NaN</td>\n",
       "      <td>hypothetical protein</td>\n",
       "      <td>0</td>\n",
       "    </tr>\n",
       "  </tbody>\n",
       "</table>\n",
       "</div>"
      ],
      "text/plain": [
       "             Laa     GC3    gene  \\\n",
       "locus_tag                          \n",
       "PSCT_00001    62  0.5484     NaN   \n",
       "PSCT_00002    80  0.6000     NaN   \n",
       "PSCT_00003  1039  0.7324  cusA_1   \n",
       "PSCT_00004   544  0.6857  cusB_1   \n",
       "PSCT_00005   427  0.7166     NaN   \n",
       "PSCT_00006    89  0.8876     NaN   \n",
       "PSCT_00007   729  0.8368     hcr   \n",
       "PSCT_00008   228  0.8421     NaN   \n",
       "PSCT_00009   266  0.7932     NaN   \n",
       "PSCT_00010   108  0.5556     NaN   \n",
       "\n",
       "                                                  product  highlyExpressed  \n",
       "locus_tag                                                                   \n",
       "PSCT_00001                           hypothetical protein                0  \n",
       "PSCT_00002                           hypothetical protein                0  \n",
       "PSCT_00003              cation efflux system protein CusA                0  \n",
       "PSCT_00004    cation efflux system protein CusB precursor                0  \n",
       "PSCT_00005                  outer membrane efflux protein                0  \n",
       "PSCT_00006                           hypothetical protein                0  \n",
       "PSCT_00007                        NADH oxidoreductase hcr                0  \n",
       "PSCT_00008  ferric reductase like transmembrane component                0  \n",
       "PSCT_00009                           hypothetical protein                0  \n",
       "PSCT_00010                           hypothetical protein                0  "
      ]
     },
     "execution_count": 6,
     "metadata": {},
     "output_type": "execute_result"
    }
   ],
   "source": [
    "columns = [\"Laa\", \"GC3\", \"gene\", \"product\", \"highlyExpressed\"]\n",
    "laa_gc3[columns].head(10)"
   ]
  },
  {
   "cell_type": "code",
   "execution_count": 7,
   "metadata": {
    "collapsed": true
   },
   "outputs": [],
   "source": [
    "phagedf = pd.read_table(\"./lsbsr_g_dup_matrix.txt\", index_col=0)\n",
    "phage = [1 if sum(row) != 0 else 0  for index, row in phagedf.iterrows()]\n",
    "df_phage = pd.DataFrame(phage)\n",
    "df_phage.columns = [\"Prophage\"]\n",
    "df_phage.index = phagedf.index"
   ]
  },
  {
   "cell_type": "code",
   "execution_count": 40,
   "metadata": {
    "collapsed": true
   },
   "outputs": [],
   "source": [
    "ko_dicts = {}\n",
    "with open(\"./kegg/user_ko.txt\", \"r\") as f:\n",
    "    for line in f:\n",
    "        line = line.split()\n",
    "        if line[0] not in ko_dicts:\n",
    "            ko_dicts[line[0]] = []\n",
    "        if len(line) != 1:\n",
    "            ko_dicts[line[0]].append(line[1])"
   ]
  },
  {
   "cell_type": "code",
   "execution_count": 46,
   "metadata": {
    "collapsed": true
   },
   "outputs": [],
   "source": [
    "df_kegg = pd.DataFrame(list(ko_dicts.values()))\n",
    "df_kegg.columns = [\"ko1\", \"ko2\", \"ko3\"]\n",
    "df_kegg.index = phagedf.index"
   ]
  },
  {
   "cell_type": "code",
   "execution_count": 55,
   "metadata": {
    "collapsed": true,
    "scrolled": true
   },
   "outputs": [],
   "source": [
    "contigs = []\n",
    "for record in SeqIO.parse(\"./SAMD00059319_PSCT_BDJA01_FF.gbff\", \"genbank\"):\n",
    "#     print(record.id)\n",
    "    for feature in record.features:\n",
    "        if feature.type == \"CDS\":# and feature.qualifiers[\"locus_tag\"][0] in phageids:\n",
    "            contigs.append([record.id])\n",
    "\n",
    "contigdf = pd.DataFrame(contigs, index=phagedf.index, columns=[\"contig\"])"
   ]
  },
  {
   "cell_type": "code",
   "execution_count": 58,
   "metadata": {
    "collapsed": true
   },
   "outputs": [],
   "source": [
    "df = pd.concat([contigdf, laa_gc3[columns], df_phage, df_specific, df_kegg], axis=1)"
   ]
  },
  {
   "cell_type": "code",
   "execution_count": 59,
   "metadata": {
    "collapsed": true
   },
   "outputs": [],
   "source": [
    "df[[\"Laa\", \"GC3\", \"StrainSpecific\", \"Prophage\", \"highlyExpressed\", \"gene\", \"product\", \"contig\", \"ko1\", \"ko2\", \"ko3\"]].to_csv(\"./StrainSpecific.csv\")"
   ]
  },
  {
   "cell_type": "code",
   "execution_count": 10,
   "metadata": {
    "collapsed": true
   },
   "outputs": [],
   "source": [
    "from Bio import SeqIO"
   ]
  },
  {
   "cell_type": "code",
   "execution_count": 35,
   "metadata": {
    "collapsed": true
   },
   "outputs": [],
   "source": [
    "phageids = [index for index, row in phagedf.iterrows() if sum(row) != 0]"
   ]
  },
  {
   "cell_type": "code",
   "execution_count": 40,
   "metadata": {
    "collapsed": false
   },
   "outputs": [
    {
     "data": {
      "text/plain": [
       "185"
      ]
     },
     "execution_count": 40,
     "metadata": {},
     "output_type": "execute_result"
    }
   ],
   "source": [
    "pd.read_csv(\"./StrainSpecific.csv\", index_col=0)[\"Prophage\"].sum()"
   ]
  },
  {
   "cell_type": "code",
   "execution_count": null,
   "metadata": {
    "collapsed": true
   },
   "outputs": [],
   "source": []
  }
 ],
 "metadata": {
  "kernelspec": {
   "display_name": "Python 3",
   "language": "python",
   "name": "python3"
  },
  "language_info": {
   "codemirror_mode": {
    "name": "ipython",
    "version": 3
   },
   "file_extension": ".py",
   "mimetype": "text/x-python",
   "name": "python",
   "nbconvert_exporter": "python",
   "pygments_lexer": "ipython3",
   "version": "3.5.0"
  }
 },
 "nbformat": 4,
 "nbformat_minor": 2
}
