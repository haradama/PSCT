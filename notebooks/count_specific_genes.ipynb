{
 "cells": [
  {
   "cell_type": "code",
   "execution_count": 28,
   "metadata": {
    "collapsed": true
   },
   "outputs": [],
   "source": [
    "import pandas as pd\n",
    "from Bio import SeqIO\n",
    "from collections import Counter"
   ]
  },
  {
   "cell_type": "code",
   "execution_count": 3,
   "metadata": {
    "collapsed": true
   },
   "outputs": [],
   "source": [
    "df = pd.read_table(\"./lsbsr_g_dup_matrix.txt\", index_col=0)"
   ]
  },
  {
   "cell_type": "code",
   "execution_count": 35,
   "metadata": {
    "collapsed": true,
    "scrolled": true
   },
   "outputs": [],
   "source": [
    "columns = list(df.columns)\n",
    "columns.remove(\"SAMD00059319_PSCT_BDJA01_FF\")\n",
    "specific = [index for index, row in df[columns].iterrows() if sum(row) == 0]\n",
    "\n",
    "specific_genes = [record.description[11:] for record in SeqIO.parse(\"./PSCT.faa\", \"fasta\") if record.id in specific]"
   ]
  },
  {
   "cell_type": "code",
   "execution_count": 38,
   "metadata": {
    "collapsed": false,
    "scrolled": true
   },
   "outputs": [
    {
     "name": "stdout",
     "output_type": "stream",
     "text": [
      "hypothetical protein 254\n",
      "mercuric resistance operon regulatory protein 5\n",
      "chromosome partition protein Smc 5\n",
      "helix-turn-helix domain protein 3\n",
      "zonular occludens toxin 3\n",
      "recombination protein F 3\n",
      "helix-turn-helix protein 3\n",
      "site-specific tyrosine recombinase XerC 3\n",
      "tn3 transposase DDE domain protein 3\n",
      "carboxymuconolactone decarboxylase family protein 3\n",
      "doxX protein 3\n",
      "merT mercuric transport protein 3\n",
      "mercuric transport protein periplasmic component precursor 3\n",
      "mercuric reductase 3\n",
      "type-1 restriction enzyme EcoKI specificity protein 2\n",
      "methyl-accepting chemotaxis protein McpS 2\n",
      "baseplate J-like protein 2\n",
      "phage late control gene D protein 2\n",
      "phage tail sheath protein 2\n",
      "phage virion morphogenesis family protein 2\n",
      "transcriptional repressor DicA 2\n",
      "site-specific tyrosine recombinase XerD 2\n",
      "phage portal protein 2\n",
      "phage integrase family protein 2\n",
      "HTH-type transcriptional repressor ComR 2\n",
      "glutathione amide reductase 2\n",
      "trehalase 2\n",
      "cyclic di-GMP phosphodiesterase response regulator RpfG 2\n",
      "ECF RNA polymerase sigma-E factor 2\n",
      "NTE family protein RssA 2\n",
      "cytochrome c551 peroxidase precursor 2\n",
      "oxalate:formate antiporter 1\n",
      "acyl-CoA dehydrogenase 1\n",
      "HTH-type transcriptional regulator KipR 1\n",
      "2,3-dehydroadipyl-CoA hydratase 1\n",
      "3-hydroxyadipyl-CoA dehydrogenase 1\n",
      "3-oxoadipyl-CoA/3-oxo-5,6-dehydrosuberyl-CoA thiolase 1\n",
      "succinyl-CoA:(R)-benzylsuccinate CoA-transferase subunit BbsF 1\n",
      "tripartite tricarboxylate transporter family receptor 1\n",
      "tripartite tricarboxylate transporter TctB family protein 1\n",
      "tripartite tricarboxylate transporter TctA family protein 1\n",
      "transposase IS66 family protein 1\n",
      "phage protein GP46 1\n",
      "bacteriophage Mu Gp45 protein 1\n",
      "phage-related minor tail protein 1\n",
      "phage tail tube protein 1\n",
      "mu-like prophage major head subunit gpT 1\n",
      "mu-like prophage I protein 1\n",
      "phage Mu protein F like protein 1\n",
      "mor transcription activator family protein 1\n",
      "DNA-binding protein HU-beta 1\n",
      "integrase core domain protein 1\n",
      "putative HTH-type transcriptional regulator 1\n",
      "alginate biosynthesis protein AlgA 1\n",
      "UDP-D-galactose:(glucosyl)lipopolysaccharide-1, 6-D-galactosyltransferase 1\n",
      "polysaccharide pyruvyl transferase 1\n",
      "bicarbonate transport ATP-binding protein CmpD 1\n",
      "glycogen synthase 1\n",
      "dTDP-4-dehydro-6-deoxyglucose reductase 1\n",
      "ogr/Delta-like zinc finger 1\n",
      "antA/AntB antirepressor 1\n",
      "phage P2 GpU 1\n",
      "phage tail protein E 1\n",
      "phage tail tube protein FII 1\n",
      "phage tail protein 1\n",
      "gene 25-like lysozyme 1\n",
      "phage-related baseplate assembly protein 1\n",
      "P2 phage tail completion protein R 1\n",
      "putative peptidoglycan binding domain protein 1\n",
      "phage holin family 1\n",
      "phage Tail Protein X 1\n",
      "phage head completion protein 1\n",
      "phage small terminase subunit 1\n",
      "phage major capsid protein, P2 family 1\n",
      "phage capsid scaffolding protein GPO serine peptidase 1\n",
      "terminase-like family protein 1\n",
      "phage head-tail joining protein 1\n",
      "phage gp6-like head-tail connector protein 1\n",
      "phage Terminase 1\n",
      "HNH endonuclease 1\n",
      "caudovirus prohead protease 1\n",
      "phage capsid family protein 1\n",
      "DNA primase 1\n",
      "tyrosine recombinase XerD 1\n",
      "putative inositol 1-monophosphatase ImpA 1\n",
      "divergent AAA domain protein 1\n",
      "glutaredoxin 1\n",
      "mRNA interferase RelE 1\n",
      "antitoxin Phd_YefM, type II toxin-antitoxin system 1\n",
      "DNA polymerase III subunit epsilon 1\n",
      "virulence sensor protein BvgS precursor 1\n",
      "DNA polymerase IV 1\n",
      "excinuclease ABC subunit C 1\n",
      "apolipoprotein A1/A4/E domain protein 1\n",
      "endonuclease-1 precursor 1\n",
      "fimbrial protein precursor 1\n",
      "ABC-2 family transporter protein 1\n",
      "putative ABC transporter ATP-binding protein YxlF 1\n",
      "putative major pilin subunit 1\n",
      "DNA-invertase hin 1\n",
      "glutaredoxin-3 1\n",
      "MAPEG family protein 1\n",
      "arylesterase 1\n",
      "(S)-2-haloacid dehalogenase 1\n",
      "NADH dehydrogenase-like protein YjlD 1\n",
      "porin D precursor 1\n",
      "ubiquinone biosynthesis O-methyltransferase 1\n",
      "phosphate-binding protein PstS 1 precursor 1\n",
      "phosphate transport system permease protein PstC 1\n",
      "phosphate transport system permease protein PstA 1\n",
      "phosphate import ATP-binding protein PstB 1\n",
      "chlorite dismutase precursor 1\n",
      "glucose 1-dehydrogenase 1 1\n",
      "localization factor PodJL 1\n",
      "soluble epoxide hydrolase 1\n",
      "cation efflux system protein CusF precursor 1\n",
      "glucose 1-dehydrogenase 1\n",
      "membrane transport protein MerF 1\n",
      "haloacetate dehalogenase H-2 1\n",
      "thiol-disulfide oxidoreductase 1\n",
      "DNA helicase II 1\n",
      "transglutaminase-like superfamily protein 1\n",
      "protein ArsC 1\n",
      "cyclic di-GMP phosphodiesterase Gmr 1\n",
      "putative methyl-accepting chemotaxis protein YoaH 1\n",
      "acyltransferase family protein 1\n",
      "2-phospho-L-lactate guanylyltransferase 1\n",
      "sporulation kinase E 1\n",
      "transcriptional regulatory protein ZraR 1\n",
      "arsenite oxidase subunit AioB precursor 1\n",
      "arsenite oxidase subunit AioA 1\n",
      "cytochrome c-552 precursor 1\n",
      "molybdopterin synthase sulfur carrier subunit 1\n",
      "transcriptional activator FtrA 1\n",
      "uracil DNA glycosylase superfamily protein 1\n",
      "HTH-type transcriptional regulator CysL 1\n",
      "N-acetyl-gamma-glutamyl-phosphate reductase 1\n",
      "DNA methylase 1\n",
      "DNA polymerase V subunit UmuC 1\n",
      "DNA polymerase V subunit UmuD 1\n",
      "ATP-dependent DNA helicase UvrD1 1\n",
      "LexA repressor 1\n",
      "putative SOS response-associated peptidase YedK 1\n",
      "integrase 1\n",
      "sporulation initiation inhibitor protein Soj 1\n",
      "type-2 restriction enzyme PaeR7I 1\n",
      "modification methylase PaeR7I 1\n",
      "(S)-2-haloacid dehalogenase 4A 1\n",
      "phage X family protein 1\n",
      "bacteriophage coat protein B 1\n",
      "transposase, Mutator family 1\n"
     ]
    }
   ],
   "source": [
    "counter = Counter(specific_genes)\n",
    "for gene, amount in counter.most_common():\n",
    "    print(gene, amount)"
   ]
  },
  {
   "cell_type": "code",
   "execution_count": 15,
   "metadata": {
    "collapsed": false
   },
   "outputs": [
    {
     "data": {
      "text/plain": [
       "NZ_CP007510.1    4\n",
       "dtype: int64"
      ]
     },
     "execution_count": 15,
     "metadata": {},
     "output_type": "execute_result"
    }
   ],
   "source": [
    "df[[\"NZ_CP007510.1\"]].sum()"
   ]
  },
  {
   "cell_type": "code",
   "execution_count": 21,
   "metadata": {
    "collapsed": true
   },
   "outputs": [],
   "source": [
    "df_ = pd.read_table(\"./lsbsr_prophage_dup_matrix.txt\", index_col=0)"
   ]
  },
  {
   "cell_type": "code",
   "execution_count": 23,
   "metadata": {
    "collapsed": false
   },
   "outputs": [
    {
     "data": {
      "text/plain": [
       "NC_017532.1.fna                      5\n",
       "NZ_CP007510.1.fna                    0\n",
       "NZ_CP007441.1.fna                    3\n",
       "NZ_CP007511.1.fna                   10\n",
       "NZ_CP011854.1.fna                   26\n",
       "NZ_CP015641.1.fna                    4\n",
       "NC_018028.1.fna                     18\n",
       "NC_019937.1.fna                      0\n",
       "NC_009434.1.fna                      5\n",
       "SAMD00059319_PSCT_BDJA01_FF.fna    150\n",
       "NC_015740.1.fna                      5\n",
       "NC_019938.1.fna                      0\n",
       "NC_019936.1.fna                     31\n",
       "NC_019939.1.fna                      0\n",
       "NC_018177.1.fna                     19\n",
       "NZ_CP007509.1.fna                   24\n",
       "NC_009439.1.fna                      6\n",
       "dtype: int64"
      ]
     },
     "execution_count": 23,
     "metadata": {},
     "output_type": "execute_result"
    }
   ],
   "source": [
    "df_.sum()"
   ]
  },
  {
   "cell_type": "code",
   "execution_count": null,
   "metadata": {
    "collapsed": true
   },
   "outputs": [],
   "source": []
  }
 ],
 "metadata": {
  "kernelspec": {
   "display_name": "Python 3",
   "language": "python",
   "name": "python3"
  },
  "language_info": {
   "codemirror_mode": {
    "name": "ipython",
    "version": 3
   },
   "file_extension": ".py",
   "mimetype": "text/x-python",
   "name": "python",
   "nbconvert_exporter": "python",
   "pygments_lexer": "ipython3",
   "version": "3.5.0"
  }
 },
 "nbformat": 4,
 "nbformat_minor": 2
}
